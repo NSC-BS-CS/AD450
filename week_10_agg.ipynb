{
 "cells": [
  {
   "cell_type": "markdown",
   "metadata": {},
   "source": [
    "### All Data Descriptions\n",
    "\n",
    "\n",
    "* `customers` - A table of customers. The unique id for the customer is `customer_id` meaning only one id per customer. \n",
    "* `orders` - A table of orders. The unique id for the order is `order_id` there is a foreign key (`customer_id`) that tells you which customer placed the order.\n",
    "* `web_visits`: Describes visitors to the website, with `visitor_id` be a unique id per visitor to the website. If the visitor is a logged in customer then the `customer_id` has a value otherwise it is null. \n",
    "* `ad_clicks`: Describes clicks on ad on an external website, the `external_user_id` is an unique id per user from the external website. If the user is a known in customer then the `customer_id` has a value otherwise it is null. "
   ]
  },
  {
   "cell_type": "code",
   "execution_count": 1,
   "metadata": {},
   "outputs": [],
   "source": [
    "import numpy as np\n",
    "import pandas as pd \n",
    "import generate_week_10_data\n",
    "\n",
    "customers, orders, web_visits, ad_clicks = generate_week_10_data.create_data()"
   ]
  },
  {
   "cell_type": "markdown",
   "metadata": {},
   "source": [
    "### Problem 1 (10 pts)\n",
    "\n",
    "1. What is the order amount per `customer_name`, only include customers who have orders\n",
    "2. What is the order amount per `customer_name`, include customers even if they have no orders\n",
    "\n",
    "#### Grading: \n",
    "5 points per question. 2 points for the correct join and 3 point for the aggragations. "
   ]
  },
  {
   "cell_type": "code",
   "execution_count": null,
   "metadata": {},
   "outputs": [],
   "source": []
  },
  {
   "cell_type": "markdown",
   "metadata": {},
   "source": [
    "### Problem 2 (5 pts)\n",
    "If you look at the raw results of the join you can visually see that there are duplicates for the columns that started in the `customer` table. This wasn't a concern above because we we doing an aggregation on a column in the `orders` table. Let's think through problems that require a join but are looking to do an aggregation with a column from the `customers` table. \n",
    "\n",
    "1. What is the average `customer_age` for customers who have placed orders. For this problem print the accurate average `customer_age` with duplicates remove and also print the inaccure average `customer_age` without duplicates removed. \n",
    "2. What is the average `customer_age` for customers who have placed orders versus those who haven't. \n",
    "\n",
    "#### Grading: \n",
    "5 points per question. 2 points for the correct join and 3 point for the aggragations. "
   ]
  },
  {
   "cell_type": "code",
   "execution_count": null,
   "metadata": {},
   "outputs": [],
   "source": []
  },
  {
   "cell_type": "markdown",
   "metadata": {},
   "source": [
    "### Problem 3 \n",
    "\n",
    "Per customer what is the total number of web visits and ads clicked on? \n",
    "\n",
    "For this problem I want you to start with the `customers_visits_clicks_raw` table below and again do an accurate count that only counts a web visit once and an inaccurate count that counts duplications. Here is what the results should look like: \n",
    "\n",
    "<img src=\"images/number_visits_clicks.png\" width=\"800\"/>\n",
    "\n",
    "\n",
    "#### Grading: \n",
    "5 points for joining correctly. 5 points for the correct aggragtions.  \n"
   ]
  },
  {
   "cell_type": "code",
   "execution_count": 2,
   "metadata": {},
   "outputs": [],
   "source": [
    "# Start with this dataset \n",
    "customers_visits_clicks_raw = customers.merge(web_visits, on=\"customer_id\", how=\"left\").merge(ad_clicks, on=\"customer_id\", how=\"left\")"
   ]
  },
  {
   "cell_type": "markdown",
   "metadata": {},
   "source": [
    "### Problem 4 (5 pts)\n",
    "\n",
    "We will now work through a problem with outer joins.\n",
    "\n",
    "Create a dataframe with the daily number of: \n",
    "* web visits\n",
    "* unique web visitors\n",
    "* unique customers visiting website\n",
    "* ads clicks\n",
    "* unique users clicking\n",
    "* unique customers clicking\n",
    "\n",
    "You should include the full date range 2024-05-01 to 2024-05-09 even though not all dates are included in either dataframe. \n",
    "\n",
    "You will create this data frame two ways:\n",
    "1. Join `web_visits` to `ad_clicks` first and then perform the calculations\n",
    "2. Create aggregate dataframes for `web_visits` to `ad_clicks` first and then join those aggregate dataframes together\n",
    "\n",
    "#### Grading: \n",
    "5 points per method. 2 points for the correct join and 3 point for the aggragations. "
   ]
  },
  {
   "cell_type": "code",
   "execution_count": null,
   "metadata": {},
   "outputs": [],
   "source": []
  },
  {
   "cell_type": "markdown",
   "metadata": {},
   "source": [
    "### Problem 5 (15 pts)\n",
    "\n",
    "Using the same two methods as problem 4 attempt to include:\n",
    "* mean time on page per date \n",
    "* total time on page per date\n",
    "\n",
    "One method will lead to some incorrect values unless you do a bit more work to correct the values. \n",
    "\n",
    "Write out a which method leads to correct values, which leads to incorrect values and why. \n",
    "\n",
    "#### Grading: \n",
    "* 5 points per method. 2 points for the correct join and 3 point for the aggragations. \n",
    "* 5 points for the written explaination. "
   ]
  },
  {
   "cell_type": "code",
   "execution_count": null,
   "metadata": {},
   "outputs": [],
   "source": []
  },
  {
   "cell_type": "markdown",
   "metadata": {},
   "source": [
    "### Problem 6 (15 pts)\n",
    "\n",
    "Implement the full algorithm described in [Inverting Any Square Full-Rank Matrix](https://learning.oreilly.com/library/view/practical-linear-algebra/9781098120603/ch08.html#inverting-any-square) and reproduce Figure 8-3. Of course, your matrices will look different from Figure 8-3 because of random numbers, although the grid and identity matrices will be the same.\n",
    "\n",
    "#### Grading: \n",
    "* 10 points for implimenting the algorithm. \n",
    "* 5 points for reproducing the figure. "
   ]
  },
  {
   "cell_type": "code",
   "execution_count": null,
   "metadata": {},
   "outputs": [],
   "source": []
  },
  {
   "cell_type": "markdown",
   "metadata": {},
   "source": [
    "### Problem 7 (15 pts)\n",
    "\n",
    "The LIVE EVIL rule applies to the inverse of multiplied matrices. Test this in code by creating two square full-rank matrices $A$ and $B$, then use Euclidean distance to compare:\n",
    "1. $(AB)^{-1}$ \n",
    "2. $A^{-1}B^{-1}$\n",
    "3. $B^{-1}A^{-1}$\n",
    "\n",
    "Before starting to code, make a prediction about which results will be equal. Print out your results using formatting like the following:\n",
    "\n",
    "```\n",
    "Distance between (AB)^-1 and (A^-1)(B^-1) is ___\n",
    "Distance between (AB)^-1 and (B^-1)(A^-1) is ___\n",
    "Distance between (A^-1)(B^-1) and (B^-1)(A^-1) is ___\n",
    "```\n",
    "\n",
    "#### Grading: \n",
    "5 points per comparision. "
   ]
  },
  {
   "cell_type": "code",
   "execution_count": null,
   "metadata": {},
   "outputs": [],
   "source": []
  }
 ],
 "metadata": {
  "kernelspec": {
   "display_name": "AD_450_env",
   "language": "python",
   "name": "python3"
  },
  "language_info": {
   "codemirror_mode": {
    "name": "ipython",
    "version": 3
   },
   "file_extension": ".py",
   "mimetype": "text/x-python",
   "name": "python",
   "nbconvert_exporter": "python",
   "pygments_lexer": "ipython3",
   "version": "3.10.16"
  }
 },
 "nbformat": 4,
 "nbformat_minor": 2
}
