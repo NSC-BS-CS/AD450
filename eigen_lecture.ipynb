{
 "cells": [
  {
   "cell_type": "markdown",
   "metadata": {},
   "source": [
    "# Eigen Values and Vectors Lecture\n",
    "This notebook is a collection of problems to work through in class related to eigenvalues and eigenvectors."
   ]
  },
  {
   "cell_type": "code",
   "execution_count": null,
   "metadata": {},
   "outputs": [],
   "source": [
    "import numpy as np\n",
    "import pandas as pd \n",
    "import seaborn as sns"
   ]
  },
  {
   "cell_type": "markdown",
   "metadata": {},
   "source": [
    "### Finding eigenvalues and vectors in Python"
   ]
  },
  {
   "cell_type": "code",
   "execution_count": null,
   "metadata": {},
   "outputs": [],
   "source": [
    "A = np.matrix([[1, 3], [3, 1]])\n",
    "\n",
    "evals,evecs = np.linalg.eig(A)\n",
    "print(evals)\n",
    "print(evecs)\n",
    "\n",
    "print(\"\\nA @ v_0:\", A @ evecs[0].T)\n",
    "print(\"lambda_0 @ v_0:\", evals[1] * evecs[0].T)\n",
    "\n",
    "print(\"\\nA @ v_1:\",A @ evecs[1].T)\n",
    "print(\"lambda_1 @ v_1:\", evals[0] * evecs[1].T)"
   ]
  },
  {
   "cell_type": "code",
   "execution_count": null,
   "metadata": {},
   "outputs": [],
   "source": [
    "print(\"Magnatude of eigenvectors:\", np.linalg.norm(evecs[0]), np.linalg.norm(evecs[1]))"
   ]
  },
  {
   "cell_type": "markdown",
   "metadata": {},
   "source": [
    "### Scree Plot Coin Data\n",
    "This first example will want through making a Scree plot for some imaginary data. Add these steps to the function `create_scree_plot` below. \n",
    "\n",
    "1. Mean center your coin value data\n",
    "2. Create covariance matrix of mean centered coin values\n",
    "3. Calculate eigen values of the covariance matrix\n",
    "4. Sort eigen values by size. \n",
    "5. Create a line plot of the highest to lowest eigenvalues. The number of large eigen values tells you how many groups are in the dataset.  "
   ]
  },
  {
   "cell_type": "code",
   "execution_count": null,
   "metadata": {},
   "outputs": [],
   "source": [
    "def create_correlated_data(scale, original_data):\n",
    "    return (scale * original_data) - np.random.normal(0, 10, 500)\n",
    "    \n",
    "\n",
    "hanna_coin = np.random.uniform(0, 100, 500)\n",
    "eric_coin = np.random.uniform(0, 100, 500)\n",
    "\n",
    "hanna_coin_group = pd.DataFrame(np.array([create_correlated_data(i, hanna_coin) \n",
    "                                          for i in np.random.normal(5, 1, 5)]).T, \n",
    "                                          columns = [f\"hanna_coin_{i}\" for i in range(5)])\n",
    "eric_coin_group = pd.DataFrame(np.array([create_correlated_data(i, eric_coin) \n",
    "                                          for i in np.random.normal(5, 1, 5)]).T, \n",
    "                                          columns = [f\"eric_coin_{i}\" for i in range(5)])\n",
    "\n",
    "hanna_coin_group['hanna_coin'] = hanna_coin\n",
    "eric_coin_group['eric_coin'] = eric_coin\n",
    "\n",
    "all_coins = hanna_coin_group.join(eric_coin_group)"
   ]
  },
  {
   "cell_type": "code",
   "execution_count": null,
   "metadata": {},
   "outputs": [],
   "source": [
    "all_coins.head()"
   ]
  },
  {
   "cell_type": "code",
   "execution_count": null,
   "metadata": {},
   "outputs": [],
   "source": [
    "sns.pairplot(all_coins)"
   ]
  },
  {
   "cell_type": "code",
   "execution_count": null,
   "metadata": {},
   "outputs": [],
   "source": [
    "def create_scree_plot(data):\n",
    "    # Follow the process described markdown at the top of this section. \n",
    "    pass"
   ]
  },
  {
   "cell_type": "code",
   "execution_count": null,
   "metadata": {},
   "outputs": [],
   "source": [
    "create_scree_plot(all_coins)"
   ]
  },
  {
   "cell_type": "code",
   "execution_count": null,
   "metadata": {},
   "outputs": [],
   "source": [
    "create_scree_plot(hanna_coin_group)"
   ]
  },
  {
   "cell_type": "code",
   "execution_count": null,
   "metadata": {},
   "outputs": [],
   "source": [
    "create_scree_plot(eric_coin_group)"
   ]
  },
  {
   "cell_type": "markdown",
   "metadata": {},
   "source": [
    "### Singular Matrix Eigendecomposition"
   ]
  },
  {
   "cell_type": "code",
   "execution_count": null,
   "metadata": {},
   "outputs": [],
   "source": [
    "# a singular matrix\n",
    "A = np.array([[1,4,7],\n",
    "              [2,5,8],\n",
    "              [3,6,9]])\n",
    "\n",
    "# its eigen decomposition\n",
    "L,V = np.linalg.eig(A)\n",
    "\n",
    "print( f'Rank = {np.linalg.matrix_rank(A)}\\n' )\n",
    "print('Eigenvalues: ')\n",
    "print(L.round(2))\n",
    "print(' ')\n",
    "print('Eigenvectors:')\n",
    "print(V.round(2))"
   ]
  },
  {
   "cell_type": "markdown",
   "metadata": {},
   "source": [
    "### SVD of Coin Data"
   ]
  },
  {
   "cell_type": "code",
   "execution_count": null,
   "metadata": {},
   "outputs": [],
   "source": []
  },
  {
   "cell_type": "code",
   "execution_count": 72,
   "metadata": {},
   "outputs": [],
   "source": [
    "S = np.zeros(np.shape(all_coins))\n",
    "np.fill_diagonal(S,s)"
   ]
  },
  {
   "cell_type": "code",
   "execution_count": 73,
   "metadata": {},
   "outputs": [
    {
     "data": {
      "text/plain": [
       "array([[18099.33943609,     0.        ,     0.        , ...,\n",
       "            0.        ,     0.        ,     0.        ],\n",
       "       [    0.        ,  6905.46949441,     0.        , ...,\n",
       "            0.        ,     0.        ,     0.        ],\n",
       "       [    0.        ,     0.        ,    74.36784951, ...,\n",
       "            0.        ,     0.        ,     0.        ],\n",
       "       ...,\n",
       "       [    0.        ,     0.        ,     0.        , ...,\n",
       "            0.        ,     0.        ,     0.        ],\n",
       "       [    0.        ,     0.        ,     0.        , ...,\n",
       "            0.        ,     0.        ,     0.        ],\n",
       "       [    0.        ,     0.        ,     0.        , ...,\n",
       "            0.        ,     0.        ,     0.        ]], shape=(500, 12))"
      ]
     },
     "execution_count": 73,
     "metadata": {},
     "output_type": "execute_result"
    }
   ],
   "source": [
    "S"
   ]
  },
  {
   "cell_type": "code",
   "execution_count": 82,
   "metadata": {},
   "outputs": [
    {
     "name": "stdout",
     "output_type": "stream",
     "text": [
      "['70.83', '27.02', '0.29', '0.28', '0.27', '0.26', '0.26', '0.25', '0.24', '0.23', '0.02', '0.02']\n"
     ]
    }
   ],
   "source": [
    "U,s,Vt = np.linalg.svd(all_coins)\n",
    "sum_sv = s.sum()\n",
    "print([\"%.2f\" %(100 * sv/sum_sv).item() for sv in s])"
   ]
  },
  {
   "cell_type": "code",
   "execution_count": null,
   "metadata": {},
   "outputs": [],
   "source": []
  }
 ],
 "metadata": {
  "kernelspec": {
   "display_name": "AD_450_env",
   "language": "python",
   "name": "python3"
  },
  "language_info": {
   "codemirror_mode": {
    "name": "ipython",
    "version": 3
   },
   "file_extension": ".py",
   "mimetype": "text/x-python",
   "name": "python",
   "nbconvert_exporter": "python",
   "pygments_lexer": "ipython3",
   "version": "3.10.16"
  }
 },
 "nbformat": 4,
 "nbformat_minor": 2
}
