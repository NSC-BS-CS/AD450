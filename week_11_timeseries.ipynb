{
  "cells": [
    {
      "cell_type": "markdown",
      "metadata": {
        "id": "scvZIzNZaNHF"
      },
      "source": [
        "\n",
        "# Time Series Analysis\n",
        "\n",
        "### Reading\n",
        "\n",
        "- https://wesmckinney.com/book/time-series.html\n",
        "\n",
        "### Learning Outcomes\n",
        "\n",
        "- Date & time conversion\n",
        "- Basic Time Series data\n",
        "- Date ranges & time periods\n",
        "- Window Functions"
      ]
    },
    {
      "cell_type": "code",
      "execution_count": 1,
      "metadata": {},
      "outputs": [],
      "source": [
        "#imports \n",
        "from datetime import datetime\n",
        "import pandas as pd\n",
        "import numpy as np\n",
        "import matplotlib.pyplot as plt"
      ]
    },
    {
      "cell_type": "markdown",
      "metadata": {
        "id": "RXSutn6jmMrm"
      },
      "source": [
        "### What is Time Series data\n",
        "\n",
        "Time series data is an important form of structured data, and can be any data recorded repeatedly at many points in time.\n",
        "\n",
        "Time series can have `fixed frequency` - data points occurring at regular intervals (e.g. hourly, daily, etc).\n",
        "\n",
        "Time series can also be `irregular` without a fixed unit of time or offset between units.\n",
        "\n",
        "Data points typically have a `timestamp` specifying an instant in time. Timestamp can be a `date`, a `time`, or a combination of both.\n"
      ]
    },
    {
      "cell_type": "markdown",
      "metadata": {
        "id": "vBpl2-Lnk1EB"
      },
      "source": [
        "### Date & Time types\n",
        "\n",
        "Python has built-in data types & modules for date and time data, such as `datetime`, `time`, & `calendar`.\n",
        "\n",
        "`datetime` stores both the date and time down to the microsecond. It has numerous methods to create a datetime object from inputs and to output parts of a datetime object."
      ]
    },
    {
      "cell_type": "code",
      "execution_count": 2,
      "metadata": {
        "colab": {
          "base_uri": "https://localhost:8080/"
        },
        "id": "HjA7Mvh8o1m_",
        "outputId": "466949f5-0d38-4bdc-be71-d26e626dbfbb"
      },
      "outputs": [
        {
          "name": "stdout",
          "output_type": "stream",
          "text": [
            "now -  2025-03-19 15:30:20.894110\n",
            "date parts -  2025 3 19\n"
          ]
        },
        {
          "data": {
            "text/plain": [
              "datetime.timedelta(days=707, seconds=8464, microseconds=409577)"
            ]
          },
          "execution_count": 2,
          "metadata": {},
          "output_type": "execute_result"
        }
      ],
      "source": [
        "now = datetime.now()\n",
        "print(\"now - \", now)  # show complete datetime object\n",
        "print(\"date parts - \", now.year, now.month, now.day)\n",
        "then = datetime(2023, 4, 12, 13, 9, 16, 484533)\n",
        "delta = now - then\n",
        "delta"
      ]
    },
    {
      "cell_type": "code",
      "execution_count": 3,
      "metadata": {
        "colab": {
          "base_uri": "https://localhost:8080/"
        },
        "id": "pgv_8vWSp-pt",
        "outputId": "84988325-ba30-4f78-9c23-3f9d2d71c0cb"
      },
      "outputs": [
        {
          "data": {
            "text/plain": [
              "datetime.timedelta(days=926, seconds=56700)"
            ]
          },
          "execution_count": 3,
          "metadata": {},
          "output_type": "execute_result"
        }
      ],
      "source": [
        "delta = datetime(2011, 1, 7) - datetime(2008, 6, 24, 8, 15)\n",
        "delta"
      ]
    },
    {
      "cell_type": "markdown",
      "metadata": {
        "id": "D-WqSI7grLnr"
      },
      "source": [
        "You can format datetime objects as strings. See docs for a full listing of format codes.\n",
        "\n",
        "Python `datetime` objects also have locale-specific formatting options for countries & languages other than US English."
      ]
    },
    {
      "cell_type": "code",
      "execution_count": 4,
      "metadata": {
        "colab": {
          "base_uri": "https://localhost:8080/",
          "height": 35
        },
        "id": "sFmstlssrW8s",
        "outputId": "e2c07d33-8a8f-4a78-e30c-090c51dec840"
      },
      "outputs": [
        {
          "data": {
            "text/plain": [
              "'2021-01-03'"
            ]
          },
          "execution_count": 4,
          "metadata": {},
          "output_type": "execute_result"
        }
      ],
      "source": [
        "timestamp = datetime(2021, 1, 3)\n",
        "str(timestamp)  # convert datetime to string\n",
        "timestamp.strftime(\"%Y-%m-%d\")  # timestamp to formatted string"
      ]
    },
    {
      "cell_type": "markdown",
      "metadata": {
        "id": "YyFeZxWlsFoS"
      },
      "source": [
        "You can use many of the same format codes to convert strings to dates."
      ]
    },
    {
      "cell_type": "code",
      "execution_count": 5,
      "metadata": {
        "colab": {
          "base_uri": "https://localhost:8080/"
        },
        "id": "SaTZOdgEsN4z",
        "outputId": "7275e0e3-584c-4149-a400-7469c094355e"
      },
      "outputs": [
        {
          "data": {
            "text/plain": [
              "[datetime.datetime(2021, 7, 6, 0, 0), datetime.datetime(2021, 8, 6, 0, 0)]"
            ]
          },
          "execution_count": 5,
          "metadata": {},
          "output_type": "execute_result"
        }
      ],
      "source": [
        "datetime.strptime(\"2021-01-03\", \"%Y-%m-%d\")\n",
        "datestrs = [\"7/6/2021\", \"8/6/2021\"]\n",
        "[datetime.strptime(x, \"%m/%d/%Y\") for x in datestrs]"
      ]
    },
    {
      "cell_type": "markdown",
      "metadata": {
        "id": "RhcRmYDKk8br"
      },
      "source": [
        "### Pandas Time Series Basics"
      ]
    },
    {
      "cell_type": "markdown",
      "metadata": {
        "id": "1KhfIsMHtEJ5"
      },
      "source": [
        "The `pandas.to_datetime` method parses many different kinds of date representations, including missing data, into a `DatetimeIndex` Series indexed by datetime objects."
      ]
    },
    {
      "cell_type": "code",
      "execution_count": 6,
      "metadata": {
        "colab": {
          "base_uri": "https://localhost:8080/"
        },
        "id": "2n5oMpYAsvtk",
        "outputId": "c11a87f3-390b-48e8-eb8e-605b7cabd78e"
      },
      "outputs": [
        {
          "data": {
            "text/plain": [
              "DatetimeIndex(['2021-07-06 12:00:00', '2021-08-06 00:00:00', 'NaT'], dtype='datetime64[ns]', freq=None)"
            ]
          },
          "execution_count": 6,
          "metadata": {},
          "output_type": "execute_result"
        }
      ],
      "source": [
        "datestrs = [\"2021/07/06 12:00:00\", \"2021-08-06 00:00:00\", None]\n",
        "pd.to_datetime(datestrs, format='mixed')"
      ]
    },
    {
      "cell_type": "markdown",
      "metadata": {
        "id": "yZ8i52wDyCdG"
      },
      "source": [
        "A basic pandas time series object is a Series indexed by timestamps. Pandas time series can be sliced like any other Series."
      ]
    },
    {
      "cell_type": "code",
      "execution_count": 7,
      "metadata": {
        "colab": {
          "base_uri": "https://localhost:8080/"
        },
        "id": "snxQg_IfySFE",
        "outputId": "c43da879-c5df-4309-d87b-5647ddccba70"
      },
      "outputs": [
        {
          "data": {
            "text/plain": [
              "2021-07-06 12:00:00    0.662071\n",
              "2021-08-06 00:00:00    0.354723\n",
              "NaT                    0.861411\n",
              "dtype: float64"
            ]
          },
          "execution_count": 7,
          "metadata": {},
          "output_type": "execute_result"
        }
      ],
      "source": [
        "ts = pd.Series(np.random.standard_normal(3), index=pd.to_datetime(datestrs, format='mixed'))\n",
        "ts"
      ]
    },
    {
      "cell_type": "markdown",
      "metadata": {
        "id": "1EmwpAVCxU3n"
      },
      "source": [
        "Scalar values from a DatetimeIndex are pandas `Timestamp` objects and can generally be substituted for a `datetime` object. However, Timestamp objects can store data at nanosecond precision and also store frequency information."
      ]
    },
    {
      "cell_type": "code",
      "execution_count": 8,
      "metadata": {
        "colab": {
          "base_uri": "https://localhost:8080/"
        },
        "id": "Rm3AuldzxpFH",
        "outputId": "1083251f-d27c-4ae8-ca9b-d218c37c6524"
      },
      "outputs": [
        {
          "data": {
            "text/plain": [
              "Timestamp('2021-07-06 12:00:00')"
            ]
          },
          "execution_count": 8,
          "metadata": {},
          "output_type": "execute_result"
        }
      ],
      "source": [
        "ts.index[0]"
      ]
    },
    {
      "cell_type": "markdown",
      "metadata": {
        "id": "zcQ_HDYszdQS"
      },
      "source": [
        "Time series can also use a date string for indexing."
      ]
    },
    {
      "cell_type": "code",
      "execution_count": 9,
      "metadata": {
        "colab": {
          "base_uri": "https://localhost:8080/"
        },
        "id": "HJsKdrbJznbn",
        "outputId": "205e1f86-9b3f-455d-f5c7-abe97678be41"
      },
      "outputs": [
        {
          "data": {
            "text/plain": [
              "2021-07-06 12:00:00    0.662071\n",
              "dtype: float64"
            ]
          },
          "execution_count": 9,
          "metadata": {},
          "output_type": "execute_result"
        }
      ],
      "source": [
        "ts['2021-07-06']"
      ]
    },
    {
      "cell_type": "markdown",
      "metadata": {
        "id": "HHIRGJmUlO9m"
      },
      "source": [
        "### Date Ranges & Frequencies\n",
        "\n",
        "Time series analysis often requires working with fixed-frequency data. pandas supports standard time series frequencies and has tools for resampling (conversion), inferring frequencies, and generating fixed-frequency date ranges."
      ]
    },
    {
      "cell_type": "code",
      "execution_count": 10,
      "metadata": {},
      "outputs": [
        {
          "data": {
            "text/plain": [
              "2021-07-06 12:00:00    0.662071\n",
              "2021-08-06 00:00:00    0.354723\n",
              "NaT                    0.861411\n",
              "dtype: float64"
            ]
          },
          "execution_count": 10,
          "metadata": {},
          "output_type": "execute_result"
        }
      ],
      "source": [
        "ts"
      ]
    },
    {
      "cell_type": "code",
      "execution_count": 11,
      "metadata": {
        "colab": {
          "base_uri": "https://localhost:8080/"
        },
        "id": "arNqu_Iv3BxN",
        "outputId": "a1d62ec0-cec9-4790-806a-f85c0a93a076"
      },
      "outputs": [
        {
          "name": "stdout",
          "output_type": "stream",
          "text": [
            "32\n",
            "2021-07-06    0.662071\n",
            "2021-07-07    0.000000\n",
            "2021-07-08    0.000000\n",
            "2021-07-09    0.000000\n",
            "2021-07-10    0.000000\n",
            "dtype: float64\n",
            "2021-08-02    0.000000\n",
            "2021-08-03    0.000000\n",
            "2021-08-04    0.000000\n",
            "2021-08-05    0.000000\n",
            "2021-08-06    0.354723\n",
            "dtype: float64\n"
          ]
        }
      ],
      "source": [
        "# convert exising time series to fixed daily frequency\n",
        "resampler = ts.resample(\"D\").sum()\n",
        "print(len(resampler))\n",
        "print(resampler.head())\n",
        "print(resampler.tail())"
      ]
    },
    {
      "cell_type": "markdown",
      "metadata": {
        "id": "DOE2P8II3sPe"
      },
      "source": [
        "`pandas.date_range` generates a DatetimeIndex with a specified length according to a particular frequency.\n",
        "\n",
        "Default frequency is daily, but pandas supports a wide set of frequencies including business-specific values. Frequencies that describe unevenly spaced intervals are referred to as `anchored` offsets."
      ]
    },
    {
      "cell_type": "code",
      "execution_count": 12,
      "metadata": {
        "colab": {
          "base_uri": "https://localhost:8080/"
        },
        "id": "AIPthew-4B5r",
        "outputId": "fdc237cb-dda7-40e8-ac86-23fee75af626"
      },
      "outputs": [
        {
          "data": {
            "text/plain": [
              "DatetimeIndex(['2021-04-01', '2021-04-02', '2021-04-03', '2021-04-04',\n",
              "               '2021-04-05', '2021-04-06', '2021-04-07', '2021-04-08',\n",
              "               '2021-04-09', '2021-04-10', '2021-04-11', '2021-04-12',\n",
              "               '2021-04-13', '2021-04-14', '2021-04-15', '2021-04-16',\n",
              "               '2021-04-17', '2021-04-18', '2021-04-19', '2021-04-20',\n",
              "               '2021-04-21', '2021-04-22', '2021-04-23', '2021-04-24',\n",
              "               '2021-04-25', '2021-04-26', '2021-04-27', '2021-04-28',\n",
              "               '2021-04-29', '2021-04-30', '2021-05-01', '2021-05-02',\n",
              "               '2021-05-03', '2021-05-04', '2021-05-05', '2021-05-06',\n",
              "               '2021-05-07', '2021-05-08', '2021-05-09', '2021-05-10',\n",
              "               '2021-05-11', '2021-05-12', '2021-05-13', '2021-05-14',\n",
              "               '2021-05-15', '2021-05-16', '2021-05-17', '2021-05-18',\n",
              "               '2021-05-19', '2021-05-20', '2021-05-21', '2021-05-22',\n",
              "               '2021-05-23', '2021-05-24', '2021-05-25', '2021-05-26',\n",
              "               '2021-05-27', '2021-05-28', '2021-05-29', '2021-05-30',\n",
              "               '2021-05-31', '2021-06-01'],\n",
              "              dtype='datetime64[ns]', freq='D')"
            ]
          },
          "execution_count": 12,
          "metadata": {},
          "output_type": "execute_result"
        }
      ],
      "source": [
        "pd.date_range(\"2021-04-01\", \"2021-06-01\")"
      ]
    },
    {
      "cell_type": "markdown",
      "metadata": {
        "id": "Hs1mPnlb4Uyy"
      },
      "source": [
        "\n",
        "If you pass only a start or end date, you must pass a number of periods to generate."
      ]
    },
    {
      "cell_type": "code",
      "execution_count": 13,
      "metadata": {
        "colab": {
          "base_uri": "https://localhost:8080/"
        },
        "id": "ta33dT3c4MND",
        "outputId": "5486e649-7e63-4f95-8eb4-2b7d17c74a85"
      },
      "outputs": [
        {
          "data": {
            "text/plain": [
              "DatetimeIndex(['2012-04-01', '2012-04-02', '2012-04-03', '2012-04-04',\n",
              "               '2012-04-05', '2012-04-06', '2012-04-07', '2012-04-08',\n",
              "               '2012-04-09', '2012-04-10', '2012-04-11', '2012-04-12',\n",
              "               '2012-04-13', '2012-04-14', '2012-04-15', '2012-04-16',\n",
              "               '2012-04-17', '2012-04-18', '2012-04-19', '2012-04-20'],\n",
              "              dtype='datetime64[ns]', freq='D')"
            ]
          },
          "execution_count": 13,
          "metadata": {},
          "output_type": "execute_result"
        }
      ],
      "source": [
        "pd.date_range(start=\"2012-04-01\", periods=20)"
      ]
    },
    {
      "cell_type": "markdown",
      "metadata": {
        "id": "q-mckEYI5Cl1"
      },
      "source": [
        "Frequencies in pandas are composed of a `base` frequency and a `multiplier` expressed as a string alias - e.g. 'M' for monthly, \"2M\" for two months.\n",
        "\n",
        "Frequency strings can be combined."
      ]
    },
    {
      "cell_type": "code",
      "execution_count": 14,
      "metadata": {
        "colab": {
          "base_uri": "https://localhost:8080/"
        },
        "id": "sLW9uGxp56UP",
        "outputId": "13ce10b6-c81e-407f-9532-ee3dcc1d49eb"
      },
      "outputs": [
        {
          "data": {
            "text/plain": [
              "DatetimeIndex(['2000-01-01 00:00:00', '2000-01-01 01:30:00',\n",
              "               '2000-01-01 03:00:00', '2000-01-01 04:30:00',\n",
              "               '2000-01-01 06:00:00', '2000-01-01 07:30:00',\n",
              "               '2000-01-01 09:00:00', '2000-01-01 10:30:00',\n",
              "               '2000-01-01 12:00:00', '2000-01-01 13:30:00'],\n",
              "              dtype='datetime64[ns]', freq='90min')"
            ]
          },
          "execution_count": 14,
          "metadata": {},
          "output_type": "execute_result"
        }
      ],
      "source": [
        "pd.date_range(\"2000-01-01\", periods=10, freq=\"1h30min\")"
      ]
    },
    {
      "cell_type": "markdown",
      "metadata": {
        "id": "4uraeHuz6MGk"
      },
      "source": [
        "\n",
        "Each base frequency has a corresponding `date offset` object. For example, hourly frequency can be represented with the `Hour` class."
      ]
    },
    {
      "cell_type": "code",
      "execution_count": 15,
      "metadata": {
        "colab": {
          "base_uri": "https://localhost:8080/"
        },
        "id": "y8cWZnv26Qa4",
        "outputId": "52a8730d-6a5a-44c8-d225-7545e990770d"
      },
      "outputs": [
        {
          "data": {
            "text/plain": [
              "<150 * Minutes>"
            ]
          },
          "execution_count": 15,
          "metadata": {},
          "output_type": "execute_result"
        }
      ],
      "source": [
        "from pandas.tseries.offsets import Hour, Minute\n",
        "\n",
        "Hour(2) + Minute(30)"
      ]
    },
    {
      "cell_type": "markdown",
      "metadata": {
        "id": "VLZx0czA7xvP"
      },
      "source": [
        "### Time Zone Handling\n",
        "\n",
        "Time zones handling can be the most challenging part of time series data. To help, data is often stored or translated into coordinated universal time or `UTC`.\n",
        "\n",
        "Time zones are expressed as offsets from UTC (e.g. Seattle = UTC-7 during daylight saving time (DST) or UTC-8 other times of year).\n",
        "\n",
        "Python version < 3.9 use the 3rd-party `pytz` library, which encapsulates a comprehensive datbase of worldwide timezones & historical changes. Python 3.9 & later versions have this capability built-in."
      ]
    },
    {
      "cell_type": "code",
      "execution_count": 16,
      "metadata": {
        "colab": {
          "base_uri": "https://localhost:8080/"
        },
        "id": "EzcLe4BL9enQ",
        "outputId": "8faf40cf-b13b-4e13-b17c-9803dbe7d89f"
      },
      "outputs": [
        {
          "name": "stdout",
          "output_type": "stream",
          "text": [
            "['US/Eastern', 'US/Hawaii', 'US/Mountain', 'US/Pacific', 'UTC']\n",
            "\n"
          ]
        },
        {
          "data": {
            "text/plain": [
              "<DstTzInfo 'America/Los_Angeles' LMT-1 day, 16:07:00 STD>"
            ]
          },
          "execution_count": 16,
          "metadata": {},
          "output_type": "execute_result"
        }
      ],
      "source": [
        "import pytz\n",
        "print(pytz.common_timezones[-5:])\n",
        "print()\n",
        "pytz.timezone(\"America/Los_Angeles\")"
      ]
    },
    {
      "cell_type": "markdown",
      "metadata": {
        "id": "uNAPiPJS-FhM"
      },
      "source": [
        "By default pandas time series are `time zone naive` (have no time zone), but they can be created with a time zone or converted to `localized`.\n",
        "\n",
        "Once a time series has been localized to a particular time zone, it can be converted to another time zone."
      ]
    },
    {
      "cell_type": "code",
      "execution_count": 17,
      "metadata": {
        "colab": {
          "base_uri": "https://localhost:8080/"
        },
        "id": "yP1U2Wl3-z7h",
        "outputId": "ab89fa15-8dea-499a-d0aa-0bb5fce0d212"
      },
      "outputs": [
        {
          "name": "stdout",
          "output_type": "stream",
          "text": [
            "DatetimeIndex(['2012-03-09 09:30:00+00:00', '2012-03-10 09:30:00+00:00',\n",
            "               '2012-03-11 09:30:00+00:00', '2012-03-12 09:30:00+00:00',\n",
            "               '2012-03-13 09:30:00+00:00', '2012-03-14 09:30:00+00:00',\n",
            "               '2012-03-15 09:30:00+00:00', '2012-03-16 09:30:00+00:00',\n",
            "               '2012-03-17 09:30:00+00:00', '2012-03-18 09:30:00+00:00'],\n",
            "              dtype='datetime64[ns, UTC]', freq='D')\n"
          ]
        },
        {
          "data": {
            "text/plain": [
              "DatetimeIndex(['2012-03-09 01:30:00-08:00', '2012-03-10 01:30:00-08:00',\n",
              "               '2012-03-11 01:30:00-08:00', '2012-03-12 02:30:00-07:00',\n",
              "               '2012-03-13 02:30:00-07:00', '2012-03-14 02:30:00-07:00',\n",
              "               '2012-03-15 02:30:00-07:00', '2012-03-16 02:30:00-07:00',\n",
              "               '2012-03-17 02:30:00-07:00', '2012-03-18 02:30:00-07:00'],\n",
              "              dtype='datetime64[ns, US/Pacific]', freq='D')"
            ]
          },
          "execution_count": 17,
          "metadata": {},
          "output_type": "execute_result"
        }
      ],
      "source": [
        "pd.date_range(\"2012-03-09 09:30\", periods=10, tz=\"UTC\")\n",
        "\n",
        "ts = pd.date_range(\"2012-03-09 09:30\", periods=10)\n",
        "ts2 = ts.tz_localize(\"UTC\")\n",
        "print(ts2)\n",
        "ts2.tz_convert(\"US/Pacific\")"
      ]
    },
    {
      "cell_type": "markdown",
      "metadata": {
        "id": "0snS2AXvDWA6"
      },
      "source": [
        "Individual `Timestamp` objects can also be localized from naive to time zone-aware and converted from one time zone to another."
      ]
    },
    {
      "cell_type": "code",
      "execution_count": 18,
      "metadata": {
        "colab": {
          "base_uri": "https://localhost:8080/"
        },
        "id": "hd1-p3KkDOOq",
        "outputId": "4417ce8c-63f2-4e86-9ba7-f8d7dd06e747"
      },
      "outputs": [
        {
          "data": {
            "text/plain": [
              "Timestamp('2011-03-11 23:00:00-0500', tz='America/New_York')"
            ]
          },
          "execution_count": 18,
          "metadata": {},
          "output_type": "execute_result"
        }
      ],
      "source": [
        "stamp = pd.Timestamp(\"2011-03-12 04:00\")\n",
        "stamp_utc = stamp.tz_localize(\"utc\")\n",
        "stamp_utc.tz_convert(\"America/New_York\")"
      ]
    },
    {
      "cell_type": "markdown",
      "metadata": {
        "id": "6HJZ4nwzlYqc"
      },
      "source": [
        "### Time Periods\n",
        "\n",
        "Pandas can represent time spans like days, months, or years with the `pandas.Period` class. Creating a period requires a string or integer and a supported frequency alias."
      ]
    },
    {
      "cell_type": "code",
      "execution_count": 19,
      "metadata": {
        "colab": {
          "base_uri": "https://localhost:8080/"
        },
        "id": "m2Z_82QuEP--",
        "outputId": "11bf5db0-d338-4ac1-83b5-979bf84f3369"
      },
      "outputs": [
        {
          "name": "stderr",
          "output_type": "stream",
          "text": [
            "/var/folders/7l/p59p79sx687fv4tgzj9pqx540000gp/T/ipykernel_88100/3454017302.py:1: FutureWarning: 'A-DEC' is deprecated and will be removed in a future version, please use 'Y-DEC' instead.\n",
            "  p = pd.Period(\"2011\", freq=\"A-DEC\") # full time span from January 1 to December 31, 2011, inclusive\n"
          ]
        },
        {
          "data": {
            "text/plain": [
              "Period('2011', 'Y-DEC')"
            ]
          },
          "execution_count": 19,
          "metadata": {},
          "output_type": "execute_result"
        }
      ],
      "source": [
        "p = pd.Period(\"2011\", freq=\"A-DEC\") # full time span from January 1 to December 31, 2011, inclusive\n",
        "p"
      ]
    },
    {
      "cell_type": "markdown",
      "metadata": {
        "id": "PwXJjah9Eq5n"
      },
      "source": [
        "Adding or subtracting integers from periods shifts their frequency."
      ]
    },
    {
      "cell_type": "code",
      "execution_count": 20,
      "metadata": {
        "colab": {
          "base_uri": "https://localhost:8080/"
        },
        "id": "7uzogU3_EzEj",
        "outputId": "a788a179-3721-4610-f0cb-74a892382166"
      },
      "outputs": [
        {
          "data": {
            "text/plain": [
              "Period('2016', 'Y-DEC')"
            ]
          },
          "execution_count": 20,
          "metadata": {},
          "output_type": "execute_result"
        }
      ],
      "source": [
        "p + 5"
      ]
    },
    {
      "cell_type": "markdown",
      "metadata": {
        "id": "knLy_1NXFGOX"
      },
      "source": [
        "Ranges of periods can be constructed with the `period_range` function."
      ]
    },
    {
      "cell_type": "code",
      "execution_count": 21,
      "metadata": {
        "colab": {
          "base_uri": "https://localhost:8080/"
        },
        "id": "AKzDRYpPE_l1",
        "outputId": "23cc70e8-cee1-4ad4-cbac-9dd8fa6c8bbb"
      },
      "outputs": [
        {
          "data": {
            "text/plain": [
              "PeriodIndex(['2000-01', '2000-02', '2000-03', '2000-04', '2000-05', '2000-06'], dtype='period[M]')"
            ]
          },
          "execution_count": 21,
          "metadata": {},
          "output_type": "execute_result"
        }
      ],
      "source": [
        "pd.period_range(\"2000-01-01\", \"2000-06-30\", freq=\"M\")"
      ]
    },
    {
      "cell_type": "markdown",
      "metadata": {
        "id": "RgR8dqbFFSum"
      },
      "source": [
        "Periods and PeriodIndex objects can be converted to another frequency with their `asfreq` method."
      ]
    },
    {
      "cell_type": "code",
      "execution_count": 22,
      "metadata": {
        "colab": {
          "base_uri": "https://localhost:8080/"
        },
        "id": "O1qQU8XcFaEp",
        "outputId": "bc54812f-9c5b-4608-8bdb-b6e07e9dcea6"
      },
      "outputs": [
        {
          "data": {
            "text/plain": [
              "Period('2011-01', 'M')"
            ]
          },
          "execution_count": 22,
          "metadata": {},
          "output_type": "execute_result"
        }
      ],
      "source": [
        "p.asfreq(\"M\", how=\"start\")"
      ]
    },
    {
      "cell_type": "markdown",
      "metadata": {
        "id": "c6oLBSLrGFTU"
      },
      "source": [
        "### Resampling & Conversion\n",
        "\n",
        "Resampling is the conversion of a time series from one frequency to another. `Downsampling` aggregated higher frequency data to a lower frequency, while `upsampling` converts lower frequency to higher frequency."
      ]
    },
    {
      "cell_type": "markdown",
      "metadata": {
        "id": "GXCjRMyIllVp"
      },
      "source": [
        "### Moving Windows\n",
        "\n",
        "Time series analysis often involves statistics and other functions evaluated over a `sliding window` or with exponentially decaying weights."
      ]
    },
    {
      "cell_type": "markdown",
      "metadata": {
        "id": "m0oXFHgzJeeA"
      },
      "source": [
        "The expression `rolling(120)` is similar to groupby, but creates an object that groups over a 120-day sliding window."
      ]
    },
    {
      "cell_type": "code",
      "execution_count": 23,
      "metadata": {
        "colab": {
          "base_uri": "https://localhost:8080/",
          "height": 448
        },
        "id": "u6a0IoRpIIB7",
        "outputId": "63415426-aced-4284-c92c-5374bab835be"
      },
      "outputs": [
        {
          "data": {
            "text/plain": [
              "<Axes: >"
            ]
          },
          "execution_count": 23,
          "metadata": {},
          "output_type": "execute_result"
        },
        {
          "data": {
            "image/png": "[encoded data removed]",
            "text/plain": [
              "<Figure size 640x480 with 1 Axes>"
            ]
          },
          "metadata": {},
          "output_type": "display_data"
        }
      ],
      "source": [
        "close_px_all = pd.read_csv(\"https://raw.githubusercontent.com/wesm/pydata-book/3rd-edition/examples/stock_px.csv\", parse_dates=True, index_col=0)\n",
        "close_px = close_px_all[[\"AAPL\", \"MSFT\", \"XOM\"]]\n",
        "close_px = close_px.resample(\"B\").ffill() # resample to business-day frequency\n",
        "close_px[\"AAPL\"].plot()\n",
        "close_px[\"AAPL\"].rolling(120).mean().plot() # plot 120-day rolling average"
      ]
    },
    {
      "cell_type": "code",
      "execution_count": 24,
      "metadata": {},
      "outputs": [
        {
          "data": {
            "text/html": [
              "<div>\n",
              "<style scoped>\n",
              "    .dataframe tbody tr th:only-of-type {\n",
              "        vertical-align: middle;\n",
              "    }\n",
              "\n",
              "    .dataframe tbody tr th {\n",
              "        vertical-align: top;\n",
              "    }\n",
              "\n",
              "    .dataframe thead th {\n",
              "        text-align: right;\n",
              "    }\n",
              "</style>\n",
              "<table border=\"1\" class=\"dataframe\">\n",
              "  <thead>\n",
              "    <tr style=\"text-align: right;\">\n",
              "      <th></th>\n",
              "      <th>AAPL</th>\n",
              "      <th>MSFT</th>\n",
              "      <th>XOM</th>\n",
              "    </tr>\n",
              "  </thead>\n",
              "  <tbody>\n",
              "    <tr>\n",
              "      <th>2003-01-02</th>\n",
              "      <td>7.40</td>\n",
              "      <td>21.11</td>\n",
              "      <td>29.22</td>\n",
              "    </tr>\n",
              "    <tr>\n",
              "      <th>2003-01-03</th>\n",
              "      <td>7.45</td>\n",
              "      <td>21.14</td>\n",
              "      <td>29.24</td>\n",
              "    </tr>\n",
              "    <tr>\n",
              "      <th>2003-01-06</th>\n",
              "      <td>7.45</td>\n",
              "      <td>21.52</td>\n",
              "      <td>29.96</td>\n",
              "    </tr>\n",
              "    <tr>\n",
              "      <th>2003-01-07</th>\n",
              "      <td>7.43</td>\n",
              "      <td>21.93</td>\n",
              "      <td>28.95</td>\n",
              "    </tr>\n",
              "    <tr>\n",
              "      <th>2003-01-08</th>\n",
              "      <td>7.28</td>\n",
              "      <td>21.31</td>\n",
              "      <td>28.83</td>\n",
              "    </tr>\n",
              "  </tbody>\n",
              "</table>\n",
              "</div>"
            ],
            "text/plain": [
              "            AAPL   MSFT    XOM\n",
              "2003-01-02  7.40  21.11  29.22\n",
              "2003-01-03  7.45  21.14  29.24\n",
              "2003-01-06  7.45  21.52  29.96\n",
              "2003-01-07  7.43  21.93  28.95\n",
              "2003-01-08  7.28  21.31  28.83"
            ]
          },
          "execution_count": 24,
          "metadata": {},
          "output_type": "execute_result"
        }
      ],
      "source": [
        "close_px.head()"
      ]
    },
    {
      "cell_type": "markdown",
      "metadata": {},
      "source": [
        "## Forecasting\n",
        "We can use many of the same models we did in R with the statsmodels library in Python. \n",
        "Below are some of the example models that we fit in R. "
      ]
    },
    {
      "cell_type": "code",
      "execution_count": 25,
      "metadata": {},
      "outputs": [],
      "source": [
        "import statsmodels as sm\n",
        "from statsmodels.tsa.api import ExponentialSmoothing, SimpleExpSmoothing, Holt\n"
      ]
    },
    {
      "cell_type": "code",
      "execution_count": 26,
      "metadata": {},
      "outputs": [],
      "source": [
        "fit1 = ses_fit = SimpleExpSmoothing(close_px['AAPL'], initialization_method=\"heuristic\").fit(\n",
        "    smoothing_level=0.2, optimized=False\n",
        ")\n",
        "fcast1 = fit1.forecast(12).rename(r\"Simple smoothing\")\n",
        "\n",
        "\n",
        "fit2 = Holt(close_px['AAPL'], initialization_method=\"estimated\").fit(\n",
        "    smoothing_level=0.8, smoothing_trend=0.2, optimized=False\n",
        ")\n",
        "fcast2 = fit2.forecast(12).rename(\"Holt's linear trend\")\n",
        "\n",
        "fit3 = ExponentialSmoothing(\n",
        "    close_px['AAPL'],\n",
        "    seasonal_periods=4,\n",
        "    trend=\"add\",\n",
        "    seasonal=\"add\",\n",
        "    use_boxcox=True,\n",
        "    initialization_method=\"estimated\",\n",
        ").fit()\n",
        "fcast3 = fit3.forecast(12).rename(\"Exponetial Smoothing\")"
      ]
    },
    {
      "cell_type": "code",
      "execution_count": 27,
      "metadata": {},
      "outputs": [
        {
          "data": {
            "image/png": "[encoded data removed]",
            "text/plain": [
              "<Figure size 640x480 with 4 Axes>"
            ]
          },
          "metadata": {},
          "output_type": "display_data"
        }
      ],
      "source": [
        "fig, (ax1, ax2, ax3, ax4) = plt.subplots(4)\n",
        "#fig.suptitle('Vertically stacked subplots')\n",
        "fig.tight_layout()\n",
        "ax1.plot(close_px['AAPL'], color=\"black\")\n",
        "ax1.title.set_text('Original Time Series')\n",
        "\n",
        "ax2.plot(fit1.fittedvalues, color=\"blue\")\n",
        "ax2.title.set_text('Simple Smoothing')\n",
        "\n",
        "ax3.plot(fit2.fittedvalues, color=\"red\")\n",
        "ax3.title.set_text('Holt Winters')\n",
        "\n",
        "ax4.plot(fit3.fittedvalues, color=\"green\")\n",
        "ax4.title.set_text('Exponetial Smooothing')\n"
      ]
    },
    {
      "cell_type": "code",
      "execution_count": null,
      "metadata": {},
      "outputs": [
        {
          "data": {
            "image/png": "[encoded data removed]",
            "text/plain": [
              "<Figure size 640x480 with 3 Axes>"
            ]
          },
          "metadata": {},
          "output_type": "display_data"
        }
      ],
      "source": [
        "fig, (ax1, ax2, ax3) = plt.subplots(3)\n",
        "#fig.suptitle('Vertically stacked subplots')\n",
        "fig.tight_layout()\n",
        "ax1.plot(close_px['AAPL'].tail(100), color=\"black\")\n",
        "ax1.title.set_text('Simple Smoothing')\n",
        "(line1,) = ax1.plot(fcast1, color=\"blue\")\n",
        "\n",
        "ax2.plot(close_px['AAPL'].tail(100), color=\"black\")\n",
        "ax2.title.set_text('Holt Winters')\n",
        "(line2,) = ax2.plot(fcast2, color=\"red\")\n",
        "\n",
        "ax3.plot(close_px['AAPL'].tail(100), color=\"black\")\n",
        "ax3.title.set_text('Exponetial Smooothing')\n",
        "(line3,) = ax3.plot(fcast2, color=\"green\")"
      ]
    }
  ],
  "metadata": {
    "colab": {
      "include_colab_link": true,
      "provenance": []
    },
    "kernelspec": {
      "display_name": "AD_450_env",
      "language": "python",
      "name": "python3"
    },
    "language_info": {
      "codemirror_mode": {
        "name": "ipython",
        "version": 3
      },
      "file_extension": ".py",
      "mimetype": "text/x-python",
      "name": "python",
      "nbconvert_exporter": "python",
      "pygments_lexer": "ipython3",
      "version": "3.10.16"
    }
  },
  "nbformat": 4,
  "nbformat_minor": 0
}
